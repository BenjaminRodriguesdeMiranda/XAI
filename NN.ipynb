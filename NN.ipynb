{
 "cells": [
  {
   "cell_type": "markdown",
   "id": "2c4ab964-ca22-4178-96ff-373c8c2fda9b",
   "metadata": {
    "tags": []
   },
   "source": [
    "# EDA"
   ]
  },
  {
   "cell_type": "code",
   "execution_count": 16,
   "id": "debbbeb2-adc2-40a4-9c20-a1dc897ad29a",
   "metadata": {},
   "outputs": [],
   "source": [
    "import pandas as pd\n",
    "from keras.models import Sequential\n",
    "from keras.layers import Dense\n",
    "from sklearn.model_selection import train_test_split\n",
    "\n",
    "#import pandas\n",
    "#from keras.wrappers.scikit_learn import KerasClassifier\n",
    "#from sklearn.model_selection import cross_val_score\n",
    "#from sklearn.preprocessing import LabelEncoder\n",
    "#from sklearn.model_selection import StratifiedKFold\n",
    "#from sklearn.preprocessing import StandardScaler\n",
    "#from sklearn.pipeline import Pipeline\n",
    "\n",
    "import warnings\n",
    "warnings.filterwarnings(\"ignore\")"
   ]
  },
  {
   "cell_type": "code",
   "execution_count": 17,
   "id": "c524d15b-a90d-4066-a0f6-fbed7640479b",
   "metadata": {},
   "outputs": [],
   "source": [
    "df = pd.read_csv(\"data/encoded_dataset.csv\")"
   ]
  },
  {
   "cell_type": "code",
   "execution_count": 19,
   "id": "b75343aa",
   "metadata": {},
   "outputs": [],
   "source": [
    "ds = df_encoded.values\n",
    "predictors = ds[:, :-1]\n",
    "labels = ds[:, -1:]\n",
    "num_features = train_data.shape[1]\n",
    "train_data, test_data, train_labels, test_labels = train_test_split(predictors, labels, test_size = 0.2, random_state = 420)\n",
    "\n",
    "def create_model():\n",
    "    model = Sequential()\n",
    "    model.add(Dense(20, input_dim = num_features, activation = \"relu\"))\n",
    "    model.add(Dense(1, activation = \"sigmoid\"))    \n",
    "    model.compile(loss = \"binary_crossentropy\", optimizer = \"SGD\", metrics = [\"accuracy\"])\n",
    "    return model"
   ]
  },
  {
   "cell_type": "code",
   "execution_count": 20,
   "id": "b7e80409",
   "metadata": {},
   "outputs": [
    {
     "name": "stdout",
     "output_type": "stream",
     "text": [
      "Epoch 1/20\n",
      "800/800 - 2s - loss: 198.8807 - accuracy: 0.6900 - 2s/epoch - 3ms/step\n",
      "Epoch 2/20\n",
      "800/800 - 2s - loss: 0.6186 - accuracy: 0.6925 - 2s/epoch - 3ms/step\n",
      "Epoch 3/20\n",
      "800/800 - 2s - loss: 0.6179 - accuracy: 0.6925 - 2s/epoch - 2ms/step\n",
      "Epoch 4/20\n",
      "800/800 - 2s - loss: 0.6181 - accuracy: 0.6925 - 2s/epoch - 2ms/step\n",
      "Epoch 5/20\n",
      "800/800 - 2s - loss: 0.6181 - accuracy: 0.6925 - 2s/epoch - 2ms/step\n",
      "Epoch 6/20\n",
      "800/800 - 2s - loss: 0.6180 - accuracy: 0.6925 - 2s/epoch - 2ms/step\n",
      "Epoch 7/20\n",
      "800/800 - 2s - loss: 0.6180 - accuracy: 0.6925 - 2s/epoch - 2ms/step\n",
      "Epoch 8/20\n",
      "800/800 - 2s - loss: 0.6177 - accuracy: 0.6925 - 2s/epoch - 2ms/step\n",
      "Epoch 9/20\n",
      "800/800 - 2s - loss: 0.6180 - accuracy: 0.6925 - 2s/epoch - 2ms/step\n",
      "Epoch 10/20\n",
      "800/800 - 2s - loss: 0.6181 - accuracy: 0.6925 - 2s/epoch - 2ms/step\n",
      "Epoch 11/20\n",
      "800/800 - 2s - loss: 0.6179 - accuracy: 0.6925 - 2s/epoch - 2ms/step\n",
      "Epoch 12/20\n",
      "800/800 - 2s - loss: 0.6178 - accuracy: 0.6925 - 2s/epoch - 2ms/step\n",
      "Epoch 13/20\n",
      "800/800 - 2s - loss: 0.6182 - accuracy: 0.6925 - 2s/epoch - 2ms/step\n",
      "Epoch 14/20\n",
      "800/800 - 2s - loss: 0.6181 - accuracy: 0.6925 - 2s/epoch - 2ms/step\n",
      "Epoch 15/20\n",
      "800/800 - 2s - loss: 0.6177 - accuracy: 0.6925 - 2s/epoch - 2ms/step\n",
      "Epoch 16/20\n",
      "800/800 - 2s - loss: 0.6180 - accuracy: 0.6925 - 2s/epoch - 2ms/step\n",
      "Epoch 17/20\n",
      "800/800 - 2s - loss: 0.6181 - accuracy: 0.6925 - 2s/epoch - 2ms/step\n",
      "Epoch 18/20\n",
      "800/800 - 2s - loss: 0.6179 - accuracy: 0.6925 - 2s/epoch - 2ms/step\n",
      "Epoch 19/20\n",
      "800/800 - 2s - loss: 0.6180 - accuracy: 0.6925 - 2s/epoch - 2ms/step\n",
      "Epoch 20/20\n",
      "800/800 - 2s - loss: 0.6180 - accuracy: 0.6925 - 2s/epoch - 2ms/step\n"
     ]
    }
   ],
   "source": [
    "model = create_model()\n",
    "history = model.fit(train_data, train_labels, epochs = 20, batch_size = 1, verbose = 2)"
   ]
  },
  {
   "cell_type": "code",
   "execution_count": 21,
   "id": "54fcc11b",
   "metadata": {},
   "outputs": [
    {
     "name": "stdout",
     "output_type": "stream",
     "text": [
      "test loss: 0.5860248804092407\n",
      "test accuracy: 0.7300000190734863\n"
     ]
    }
   ],
   "source": [
    "score = model.evaluate(test_data, test_labels, verbose = 0) \n",
    "print('test loss:', score[0]) \n",
    "print('test accuracy:', score[1])"
   ]
  },
  {
   "cell_type": "code",
   "execution_count": null,
   "id": "7a2e9786",
   "metadata": {},
   "outputs": [],
   "source": []
  }
 ],
 "metadata": {
  "kernelspec": {
   "display_name": "Python 3 (ipykernel)",
   "language": "python",
   "name": "python3"
  },
  "language_info": {
   "codemirror_mode": {
    "name": "ipython",
    "version": 3
   },
   "file_extension": ".py",
   "mimetype": "text/x-python",
   "name": "python",
   "nbconvert_exporter": "python",
   "pygments_lexer": "ipython3",
   "version": "3.7.0"
  }
 },
 "nbformat": 4,
 "nbformat_minor": 5
}

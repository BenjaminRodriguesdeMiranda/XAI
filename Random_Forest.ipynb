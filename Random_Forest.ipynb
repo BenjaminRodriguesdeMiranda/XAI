{
 "cells": [
  {
   "cell_type": "code",
   "execution_count": 1,
   "id": "99468efd-a428-4207-a640-4203f53f8303",
   "metadata": {},
   "outputs": [],
   "source": [
    "import pandas as pd\n",
    "import numpy as np\n",
    "import matplotlib.pyplot as plt\n",
    "\n",
    "import time\n",
    "\n",
    "import warnings\n",
    "warnings.filterwarnings(\"ignore\")"
   ]
  },
  {
   "cell_type": "code",
   "execution_count": 2,
   "id": "24978cb8-5f29-4a4c-9cd6-1f52bd475639",
   "metadata": {},
   "outputs": [],
   "source": [
    "train = pd.read_csv(\"data/train.csv\")\n",
    "test = pd.read_csv(\"data/test.csv\")"
   ]
  },
  {
   "cell_type": "code",
   "execution_count": 3,
   "id": "5453c56d-6109-4033-98d1-1c1e2164f807",
   "metadata": {},
   "outputs": [],
   "source": [
    "outputVar = 'Risk'\n",
    "\n",
    "X_train = train.drop(columns= [outputVar],axis=1)\n",
    "y_train = train[outputVar]\n",
    "\n",
    "X_test = test.drop(columns= [outputVar],axis=1)\n",
    "y_test = test[outputVar]"
   ]
  },
  {
   "cell_type": "markdown",
   "id": "adb02446-81c2-413e-8868-50b5d66b63cb",
   "metadata": {
    "id": "PHNYzEORvSPd"
   },
   "source": [
    "## Random Forest"
   ]
  },
  {
   "cell_type": "code",
   "execution_count": 4,
   "id": "d0e44467-2798-44fa-a753-d7de28aa7a03",
   "metadata": {
    "id": "2db7fbe9-326c-4ac5-b553-6cc8b79d7145"
   },
   "outputs": [],
   "source": [
    "from skopt.space import Integer, Categorical, Real\n",
    "\n",
    "space  = [Integer(50, 400, name = 'n_estimators'),\n",
    "          Integer(1, 200 ,name='max_depth'),\n",
    "          Integer(1, len(X_train.columns), name='max_features'),\n",
    "          Integer(1, 10000, name='min_samples_leaf'),\n",
    "          Integer(2, 10000, name='min_samples_split'),\n",
    "          Real(0.0, 1, name='ccp_alpha'),\n",
    "          Categorical([None, 'balanced', 'balanced_subsample'], name='class_weight')\n",
    "         ]"
   ]
  },
  {
   "cell_type": "code",
   "execution_count": 5,
   "id": "d83ed855-2aa2-4674-af9c-6342cbc9d711",
   "metadata": {
    "id": "e455667f-0da8-470b-b252-89cac22c4849"
   },
   "outputs": [],
   "source": [
    "from sklearn.ensemble import RandomForestClassifier\n",
    "from skopt.utils import use_named_args\n",
    "from sklearn.model_selection import cross_val_score\n",
    "from sklearn.model_selection import StratifiedKFold\n",
    "\n",
    "myRandom = 0\n",
    "\n",
    "@use_named_args(space)\n",
    "def objective(**params):\n",
    "  tempForest = RandomForestClassifier(**params, random_state = 0)\n",
    "\n",
    "  global myRandom\n",
    "  myCV = StratifiedKFold(n_splits=10, shuffle=True, random_state=myRandom)\n",
    "  scores = cross_val_score(tempForest, X_train, y_train, scoring = 'roc_auc', cv = myCV)\n",
    "  myRandom = myRandom + 1\n",
    "  result = scores.mean()\n",
    "  return -result"
   ]
  },
  {
   "cell_type": "code",
   "execution_count": 6,
   "id": "e79aa681-bdf1-4fef-a377-b02243762d65",
   "metadata": {
    "id": "4a82a1bb-8e92-4f56-a62b-569b6dac0f52",
    "scrolled": true,
    "tags": []
   },
   "outputs": [
    {
     "name": "stdout",
     "output_type": "stream",
     "text": [
      "Optimization finished after 48.77055636246999 minutes.\n"
     ]
    }
   ],
   "source": [
    "from skopt import gp_minimize\n",
    "\n",
    "start = time.time()\n",
    "opt = gp_minimize(objective, space, n_calls=300, random_state=0, verbose = False, n_jobs = -1)\n",
    "runtime = (time.time() - start)/60\n",
    "\n",
    "print('Optimization finished after ' +\n",
    "      str(runtime) + \n",
    "      ' minutes.')"
   ]
  },
  {
   "cell_type": "code",
   "execution_count": 7,
   "id": "c1bab99d-fac8-425b-b88c-f4c157e5175c",
   "metadata": {
    "id": "dbaa64e6-089a-4b37-9d8d-4be2bf9d541c"
   },
   "outputs": [
    {
     "data": {
      "text/plain": [
       "[242, 179, 11, 1, 64, 0.008421313127106677, 'balanced_subsample']"
      ]
     },
     "execution_count": 7,
     "metadata": {},
     "output_type": "execute_result"
    }
   ],
   "source": [
    "opt.x"
   ]
  },
  {
   "cell_type": "code",
   "execution_count": 8,
   "id": "864c76ee-a891-4e70-90ff-5c4020608730",
   "metadata": {},
   "outputs": [
    {
     "data": {
      "image/png": "[encoded data removed]",
      "text/plain": [
       "<Figure size 432x288 with 1 Axes>"
      ]
     },
     "metadata": {
      "needs_background": "light"
     },
     "output_type": "display_data"
    }
   ],
   "source": [
    "from skopt.plots import plot_convergence\n",
    "\n",
    "_ = plot_convergence(opt)"
   ]
  },
  {
   "cell_type": "code",
   "execution_count": 9,
   "id": "2aa93f9c-090f-42aa-a846-52849ed37be4",
   "metadata": {
    "id": "22d43b09-b317-4023-9914-46177d3ea9e0"
   },
   "outputs": [],
   "source": [
    "optForest = RandomForestClassifier(n_estimators = opt.x[0],\n",
    "                                   max_depth = opt.x[1],\n",
    "                                   max_features = opt.x[2],\n",
    "                                   min_samples_leaf = opt.x[3],\n",
    "                                   min_samples_split = opt.x[4],\n",
    "                                   ccp_alpha = opt.x[5],\n",
    "                                   class_weight = opt.x[6], \n",
    "                                   random_state = 0)\n",
    "\n",
    "_ = optForest.fit(X_train, y_train)"
   ]
  },
  {
   "cell_type": "code",
   "execution_count": 10,
   "id": "ffee12ea-af30-4c64-94ce-a52796d2308d",
   "metadata": {
    "id": "018c9599-1814-41e7-a35d-02eb11e2ce74"
   },
   "outputs": [
    {
     "name": "stdout",
     "output_type": "stream",
     "text": [
      "The cross-validation-score of this classifier is 0.7610885281385282.\n"
     ]
    }
   ],
   "source": [
    "myCV = StratifiedKFold(n_splits=10, shuffle=True, random_state=0)\n",
    "myScore = cross_val_score(optForest, X_train, y_train, scoring = 'roc_auc', cv = myCV).mean()\n",
    "\n",
    "print('The cross-validation-score of this classifier is ' +\n",
    "      str(myScore) + \n",
    "      '.')"
   ]
  },
  {
   "cell_type": "code",
   "execution_count": 11,
   "id": "5dcde5f9",
   "metadata": {},
   "outputs": [
    {
     "name": "stdout",
     "output_type": "stream",
     "text": [
      "The cross-validation-score of this classifier is 0.7138173870811073 (testing set).\n",
      "\n"
     ]
    }
   ],
   "source": [
    "from sklearn.metrics import roc_auc_score\n",
    "\n",
    "y_pred = optForest.predict(X_test)\n",
    "\n",
    "myScore = roc_auc_score(y_test, y_pred)\n",
    "\n",
    "print('The cross-validation-score of this classifier is ' +\n",
    "      str(myScore) + \n",
    "      ' (testing set).\\n')"
   ]
  }
 ],
 "metadata": {
  "kernelspec": {
   "display_name": "Python 3 (ipykernel)",
   "language": "python",
   "name": "python3"
  },
  "language_info": {
   "codemirror_mode": {
    "name": "ipython",
    "version": 3
   },
   "file_extension": ".py",
   "mimetype": "text/x-python",
   "name": "python",
   "nbconvert_exporter": "python",
   "pygments_lexer": "ipython3",
   "version": "3.10.4"
  }
 },
 "nbformat": 4,
 "nbformat_minor": 5
}
